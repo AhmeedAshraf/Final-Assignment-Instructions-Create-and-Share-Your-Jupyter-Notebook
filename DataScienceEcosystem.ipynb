{
 "cells": [
  {
   "cell_type": "markdown",
   "id": "f16d14d3-0fdc-4498-a7a5-1e4e45b661e2",
   "metadata": {},
   "source": [
    " # Data Science Tools and Ecosystem"
   ]
  },
  {
   "cell_type": "markdown",
   "id": "59ca9642-e755-49d0-8bd2-d1526ea0b111",
   "metadata": {},
   "source": [
    "In this notebook, Data Science Tools and Ecosystem are summarized."
   ]
  },
  {
   "cell_type": "markdown",
   "id": "7bc95516-5b85-4f4d-ae63-9eecc66bcd35",
   "metadata": {},
   "source": [
    "**Objectives:**\n",
    "\n",
    "- List popular languages for Data Science\n",
    "- Describe common libraries used in Data Science\n",
    "- Demonstrate basic arithmetic operations in Python\n",
    "- Convert time units using Python\n",
    "- Understand how to create tables and headings in Markdown\n"
   ]
  },
  {
   "cell_type": "markdown",
   "id": "4f0248b7-d05e-4fb3-872e-d7255302cfb9",
   "metadata": {},
   "source": [
    "Some of the popular languages that Data Scientists use are:\n",
    "1. R\n",
    "2. Python\n",
    "3. C++"
   ]
  },
  {
   "cell_type": "markdown",
   "id": "56ea542d-983a-485b-b45b-940ce286cf24",
   "metadata": {},
   "source": [
    "Some of the commonly used libraries used by Data Scientists include:\n",
    "\n",
    "1. pandas\n",
    "\n",
    "2. numpy\n",
    "\n",
    "3. matplotlib"
   ]
  },
  {
   "cell_type": "markdown",
   "id": "17728f0d-243d-43c4-95aa-25c13ecd0608",
   "metadata": {},
   "source": [
    "| Data Science Tools |\n",
    "|--------------------|\n",
    "| Jupyter Notebook |\n",
    "| RStudio |\n",
    "| Visual Studio Code|"
   ]
  },
  {
   "cell_type": "markdown",
   "id": "966b8783-6df8-4794-8d8a-f5eb5089b37b",
   "metadata": {},
   "source": [
    "### Below are a few examples of evaluating arithmetic expressions in Python\n",
    "\n",
    "1. **Addition**: `3 + 2` evaluates to `5`\n",
    "2. **Subtraction**: `7 - 4` evaluates to `3`\n",
    "3. **Multiplication**: `6 * 9` evaluates to `54`\n",
    "4. **Division**: `8 / 2` evaluates to `4.0`\n",
    "5. **Exponentiation**: `2 ** 3` evaluates to `8`\n"
   ]
  },
  {
   "cell_type": "code",
   "execution_count": 1,
   "id": "877c56fe-bda9-4e4e-ace4-5628fc0b9dd6",
   "metadata": {
    "tags": []
   },
   "outputs": [
    {
     "data": {
      "text/plain": [
       "17"
      ]
     },
     "execution_count": 1,
     "metadata": {},
     "output_type": "execute_result"
    }
   ],
   "source": [
    "# This is a simple arithmetic expression to multiply then add integers\n",
    "(3 * 4) + 5\n"
   ]
  },
  {
   "cell_type": "code",
   "execution_count": 2,
   "id": "81643e69-0d9a-41e0-a1af-ca14e8f5fc2a",
   "metadata": {
    "tags": []
   },
   "outputs": [
    {
     "data": {
      "text/plain": [
       "3.3333333333333335"
      ]
     },
     "execution_count": 2,
     "metadata": {},
     "output_type": "execute_result"
    }
   ],
   "source": [
    "# This will convert 200 minutes to hours by dividing by 60\n",
    "200 / 60\n"
   ]
  },
  {
   "cell_type": "markdown",
   "id": "ca16fcf5-750d-4382-a3f7-23dc3a0b16d3",
   "metadata": {},
   "source": [
    "## Author\n",
    "\n",
    "Ahmed Ashraf Zaki\n"
   ]
  }
 ],
 "metadata": {
  "kernelspec": {
   "display_name": "Python 3 (ipykernel)",
   "language": "python",
   "name": "python3"
  },
  "language_info": {
   "codemirror_mode": {
    "name": "ipython",
    "version": 3
   },
   "file_extension": ".py",
   "mimetype": "text/x-python",
   "name": "python",
   "nbconvert_exporter": "python",
   "pygments_lexer": "ipython3",
   "version": "3.11.5"
  }
 },
 "nbformat": 4,
 "nbformat_minor": 5
}
